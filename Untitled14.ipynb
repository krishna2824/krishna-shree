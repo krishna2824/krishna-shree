{
 "cells": [
  {
   "cell_type": "markdown",
   "metadata": {},
   "source": [
    "### 9. Draw a flowchart to input all sides of a triangle and check whether triangle is valid or not.\n",
    "#### sum of two sides must be greater than 3rd side\n",
    "\n",
    "### 10.Draw a Flowchart to convert temperature from Celsius to Fahrenheit\n",
    "#### (0°C × 9/5) + 32 = 32°F\n",
    "\n",
    "\n"
   ]
  },
  {
   "cell_type": "code",
   "execution_count": 3,
   "metadata": {},
   "outputs": [
    {
     "name": "stdout",
     "output_type": "stream",
     "text": [
      " triangle is valid \n",
      "None\n",
      " triangle is not valid \n",
      "None\n"
     ]
    }
   ],
   "source": [
    "def Triangle(a,b,c):\n",
    "    if(a+b>c and b+c>a and a+c>b):\n",
    "        print(\" triangle is valid \")\n",
    "    else:\n",
    "        print(\" triangle is not valid \")\n",
    "print(Triangle(4,6,6))\n",
    "print(Triangle(4,6,2))"
   ]
  },
  {
   "cell_type": "code",
   "execution_count": 6,
   "metadata": {},
   "outputs": [
    {
     "name": "stdout",
     "output_type": "stream",
     "text": [
      "53.6\n"
     ]
    }
   ],
   "source": [
    "def conversion(n):\n",
    "    f=(n*9/5)+32\n",
    "    print(f)\n",
    "conversion(12)"
   ]
  },
  {
   "cell_type": "code",
   "execution_count": null,
   "metadata": {},
   "outputs": [],
   "source": []
  }
 ],
 "metadata": {
  "kernelspec": {
   "display_name": "Python 3",
   "language": "python",
   "name": "python3"
  },
  "language_info": {
   "codemirror_mode": {
    "name": "ipython",
    "version": 3
   },
   "file_extension": ".py",
   "mimetype": "text/x-python",
   "name": "python",
   "nbconvert_exporter": "python",
   "pygments_lexer": "ipython3",
   "version": "3.7.3"
  }
 },
 "nbformat": 4,
 "nbformat_minor": 2
}
