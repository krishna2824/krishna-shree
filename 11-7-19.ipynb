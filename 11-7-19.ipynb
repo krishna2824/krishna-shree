{
 "cells": [
  {
   "cell_type": "markdown",
   "metadata": {},
   "source": [
    "## standard libraries\n",
    "\n",
    "     . file i/o\n",
    "     . regular expression\n",
    "     . datetime\n",
    "     . math(numerical and mathematical)"
   ]
  },
  {
   "cell_type": "markdown",
   "metadata": {},
   "source": [
    "### File Handling in Python\n",
    "     -file:-document containing information resides on the permenant storage\n",
    "     -different types of files:-txt,doc,pdf,csv,and etc\n",
    "     -input--keyboard\n",
    "     -output--file\n",
    "### modes of files i/o\n",
    "  -'w'--this mode is used to file writing\n",
    "  \n",
    "  --if the file is not present first it creates the file and write so me data to it"
   ]
  },
  {
   "cell_type": "code",
   "execution_count": 3,
   "metadata": {},
   "outputs": [
    {
     "name": "stdout",
     "output_type": "stream",
     "text": [
      "file is created and data has written\n"
     ]
    }
   ],
   "source": [
    "# function to create a file and write to the file\n",
    "def createFile(filename):\n",
    "    f=open(filename,\"w\")\n",
    "    for i in range(10):\n",
    "        f.write(\" this is %d line\" %i)\n",
    "    print(\"file is created and data has written\")\n",
    "    return\n",
    "createFile(\"file1.txt\")"
   ]
  },
  {
   "cell_type": "code",
   "execution_count": 5,
   "metadata": {},
   "outputs": [
    {
     "name": "stdout",
     "output_type": "stream",
     "text": [
      " Volume in drive C has no label.\n",
      " Volume Serial Number is AE87-FC2E\n",
      "\n",
      " Directory of C:\\Users\\Admin\n",
      "\n",
      "11/07/2019  09:40 AM    <DIR>          .\n",
      "11/07/2019  09:40 AM    <DIR>          ..\n",
      "01/07/2018  02:02 PM    <DIR>          .eclipse\n",
      "12/06/2019  11:13 AM               208 .gitconfig\n",
      "29/06/2019  10:55 AM    <DIR>          .idlerc\n",
      "11/07/2019  09:10 AM    <DIR>          .ipynb_checkpoints\n",
      "10/06/2019  04:26 PM    <DIR>          .ipython\n",
      "01/07/2018  02:02 PM    <DIR>          .jmc\n",
      "10/06/2019  04:34 PM    <DIR>          .jupyter\n",
      "29/06/2019  09:23 AM    <DIR>          .matplotlib\n",
      "07/08/2018  09:12 PM    <DIR>          .nbi\n",
      "22/07/2018  01:35 PM    <DIR>          .oracle_jre_usage\n",
      "29/06/2019  11:07 AM    <DIR>          __pycache__\n",
      "10/07/2019  04:21 PM            16,547 10-7-19.ipynb\n",
      "11/07/2019  09:40 AM             2,642 11-7-19.ipynb\n",
      "29/06/2019  10:23 AM            11,352 29 jun.ipynb\n",
      "09/07/2019  03:47 PM            13,308 9-3-19.ipynb\n",
      "10/06/2019  03:24 PM    <DIR>          Anaconda3\n",
      "07/08/2018  09:21 PM                 0 Box.jsx\n",
      "15/06/2019  10:37 AM    <DIR>          Contacts\n",
      "26/06/2019  03:52 PM            19,198 coversion of string to the words.ipynb\n",
      "10/06/2019  04:36 PM               555 day!.ipynb\n",
      "10/06/2019  04:53 PM             1,226 day1.ipynb\n",
      "26/06/2019  03:51 PM    <DIR>          Desktop\n",
      "10/07/2019  04:22 PM    <DIR>          Documents\n",
      "05/07/2019  02:32 PM    <DIR>          Downloads\n",
      "07/07/2019  01:11 PM    <DIR>          english\n",
      "15/06/2019  01:59 PM             3,736 exam.ipynb\n",
      "15/06/2019  10:37 AM    <DIR>          Favorites\n",
      "11/07/2019  09:36 AM               150 file1.txt\n",
      "15/06/2019  10:37 AM    <DIR>          Links\n",
      "15/06/2019  10:37 AM    <DIR>          Music\n",
      "22/07/2018  01:36 PM    <DIR>          netbeans\n",
      "11/07/2019  09:15 AM    <DIR>          OneDrive\n",
      "25/06/2019  10:50 AM    <DIR>          Pictures\n",
      "12/06/2019  04:03 PM            16,718 python prgms.ipynb\n",
      "15/06/2019  10:37 AM    <DIR>          Saved Games\n",
      "15/06/2019  10:37 AM    <DIR>          Searches\n",
      "29/06/2019  11:14 AM               233 tt.py\n",
      "29/06/2019  11:03 AM               180 turtle.py\n",
      "16/06/2019  10:48 AM             2,227 Untitled.ipynb\n",
      "18/06/2019  10:14 AM             1,786 Untitled1.ipynb\n",
      "21/06/2019  02:34 PM               783 Untitled2.ipynb\n",
      "21/06/2019  02:53 PM               555 Untitled3.ipynb\n",
      "21/06/2019  02:56 PM               897 Untitled4.ipynb\n",
      "22/06/2019  11:30 AM             3,649 Untitled5.ipynb\n",
      "24/06/2019  02:55 PM             2,819 Untitled6.ipynb\n",
      "25/06/2019  02:54 PM               754 Untitled7.ipynb\n",
      "28/06/2019  10:12 AM             9,716 Untitled8.ipynb\n",
      "08/07/2019  09:53 AM             1,247 Untitled9.ipynb\n",
      "15/06/2019  10:37 AM    <DIR>          Videos\n",
      "              24 File(s)        110,486 bytes\n",
      "              27 Dir(s)  338,655,502,336 bytes free\n"
     ]
    }
   ],
   "source": [
    "ls"
   ]
  },
  {
   "cell_type": "code",
   "execution_count": 6,
   "metadata": {},
   "outputs": [
    {
     "name": "stdout",
     "output_type": "stream",
     "text": [
      "File Created and Successfully data writen\n"
     ]
    }
   ],
   "source": [
    "def appendData(filename):\n",
    "    f=open(filename,\"a\")\n",
    "    for i in range(10):\n",
    "        f.write(\"this is %d line\\n\" % i)\n",
    "    print(\"File Created and Successfully data writen\")\n",
    "    return\n",
    "appendData(\"file2.txt\")"
   ]
  },
  {
   "cell_type": "code",
   "execution_count": 8,
   "metadata": {},
   "outputs": [
    {
     "name": "stdout",
     "output_type": "stream",
     "text": [
      "File Created and Successfully data is written\n"
     ]
    }
   ],
   "source": [
    "def appendData(filename):\n",
    "    f=open(filename,\"a\")\n",
    "    f.write(\"New Line 1 \\n\")\n",
    "    f.write(\"New Line 2 \\n\")\n",
    "    print(\"File Created and Successfully data is written\")\n",
    "    return\n",
    "appendData(\"file2.txt\")"
   ]
  },
  {
   "cell_type": "code",
   "execution_count": 9,
   "metadata": {},
   "outputs": [
    {
     "name": "stdout",
     "output_type": "stream",
     "text": [
      "this is 0 line\n",
      "this is 1 line\n",
      "this is 2 line\n",
      "this is 3 line\n",
      "this is 4 line\n",
      "this is 5 line\n",
      "this is 6 line\n",
      "this is 7 line\n",
      "this is 8 line\n",
      "this is 9 line\n",
      "New Line 1 \n",
      "New Line 2 \n",
      "\n"
     ]
    }
   ],
   "source": [
    "# function to read of the file\n",
    "def readFileData(filename):\n",
    "    f=open(filename,\"r\")\n",
    "    if f.mode==\"r\":\n",
    "        x=f.read()\n",
    "        print(x)\n",
    "    f.close()\n",
    "    return\n",
    "readFileData(\"file2.txt\")"
   ]
  },
  {
   "cell_type": "code",
   "execution_count": 17,
   "metadata": {},
   "outputs": [
    {
     "name": "stdout",
     "output_type": "stream",
     "text": [
      "Enter the file namedata.txt\n",
      "Enter the mode of the filea\n",
      " The data  successfully written\n"
     ]
    }
   ],
   "source": [
    "# function to read the file\n",
    "def fileOperations(filename,mode):\n",
    "    with open(filename,mode ) as f:\n",
    "        if f.mode==\"r\":\n",
    "            data==f.read()\n",
    "            print(data)\n",
    "        elif f.mode==\"a\":\n",
    "            f.write(\"Data to the file\")\n",
    "            print(\" The data  successfully written\")\n",
    "    f.close()\n",
    "    return\n",
    "filename=input(\"Enter the file name\")\n",
    "mode=input(\"Enter the mode of the file\")\n",
    "fileOperations(filename,mode)"
   ]
  },
  {
   "cell_type": "code",
   "execution_count": 20,
   "metadata": {},
   "outputs": [
    {
     "name": "stdout",
     "output_type": "stream",
     "text": [
      "Enter the file name:file2.txt\n",
      "Enter the word:this\n"
     ]
    },
    {
     "data": {
      "text/plain": [
       "10"
      ]
     },
     "execution_count": 20,
     "metadata": {},
     "output_type": "execute_result"
    }
   ],
   "source": [
    "# Data analysis\n",
    "# word count program\n",
    "def wordCount(filename,word):\n",
    "    with open(filename,\"r\") as f:\n",
    "        if f.mode==\"r\":\n",
    "            x=f.read()\n",
    "            li=x.split()\n",
    "    cnt=li.count(word)\n",
    "    return cnt\n",
    "filename=input(\"Enter the file name:\")\n",
    "word=input(\"Enter the word:\")\n",
    "wordCount(filename,word)"
   ]
  },
  {
   "cell_type": "code",
   "execution_count": 4,
   "metadata": {},
   "outputs": [
    {
     "name": "stdout",
     "output_type": "stream",
     "text": [
      "Enter the file name:file2.txt\n"
     ]
    },
    {
     "data": {
      "text/plain": [
       "0"
      ]
     },
     "execution_count": 4,
     "metadata": {},
     "output_type": "execute_result"
    }
   ],
   "source": [
    "# character count from the given file\n",
    "def count(filename,count):\n",
    "    with open (filename,\"r\") as f:\n",
    "        if f.mode==\"r\":\n",
    "            x=f.read()\n",
    "            li=x.split()\n",
    "            count=li.count(count)\n",
    "        return count\n",
    "filename=input(\"Enter the file name:\")\n",
    "count(filename,count)"
   ]
  },
  {
   "cell_type": "code",
   "execution_count": 6,
   "metadata": {},
   "outputs": [
    {
     "name": "stdout",
     "output_type": "stream",
     "text": [
      "Enter the filename:file1.txt\n"
     ]
    },
    {
     "data": {
      "text/plain": [
       "150"
      ]
     },
     "execution_count": 6,
     "metadata": {},
     "output_type": "execute_result"
    }
   ],
   "source": [
    "#charcter count from the given file\n",
    "def charcount(filename):\n",
    "    with open(filename,\"r\") as f:\n",
    "        if f.mode==\"r\":\n",
    "            x=f.read()\n",
    "            li=list(x)\n",
    "    return len(li)\n",
    "filename=input(\"Enter the filename:\")\n",
    "charcount(filename)"
   ]
  },
  {
   "cell_type": "code",
   "execution_count": 7,
   "metadata": {},
   "outputs": [
    {
     "name": "stdout",
     "output_type": "stream",
     "text": [
      "['Python progr', 'mming']\n"
     ]
    }
   ],
   "source": [
    "s1 = \"Python programming\"\n",
    "print(s1.split(\"a\"))"
   ]
  },
  {
   "cell_type": "code",
   "execution_count": 12,
   "metadata": {},
   "outputs": [
    {
     "name": "stdout",
     "output_type": "stream",
     "text": [
      "Enter the file name:file1.txt\n"
     ]
    },
    {
     "data": {
      "text/plain": [
       "150"
      ]
     },
     "execution_count": 12,
     "metadata": {},
     "output_type": "execute_result"
    }
   ],
   "source": [
    "# function to find the no of lines in the inpit file\n",
    "def linecount(filename):\n",
    "    with open(filename,\"r\") as f:\n",
    "        if f.mode==\"r\":\n",
    "            x=f.read()\n",
    "            li=list(x)\n",
    "    return len(li)\n",
    "filename=input(\"Enter the file name:\")\n",
    "linecount(filename)\n",
    "    "
   ]
  },
  {
   "cell_type": "code",
   "execution_count": 16,
   "metadata": {},
   "outputs": [
    {
     "name": "stdout",
     "output_type": "stream",
     "text": [
      "Enter the filename:file2.txt\n"
     ]
    },
    {
     "data": {
      "text/plain": [
       "'Upper Case=4,Lower Case=110'"
      ]
     },
     "execution_count": 16,
     "metadata": {},
     "output_type": "execute_result"
    }
   ],
   "source": [
    "# function to print the upper and lower charecters\n",
    "def caseCount(filename):\n",
    "    cntUpper=0\n",
    "    cntLower=0\n",
    "    with open(filename,\"r\") as f:\n",
    "        if f.mode==\"r\":\n",
    "            x=f.read()\n",
    "            li=list(x)\n",
    "    for i in li:\n",
    "        if i.isupper():\n",
    "             cntUpper+=1\n",
    "        elif i.islower():\n",
    "             cntLower+=1\n",
    "    output=\"Upper Case={0},Lower Case={1}\".format(cntUpper,cntLower)\n",
    "    return output\n",
    "filename=input(\"Enter the filename:\")\n",
    "caseCount(filename)"
   ]
  },
  {
   "cell_type": "markdown",
   "metadata": {},
   "source": [
    "###  math,random,os\n",
    "- os package it contains the certain methods which work with os"
   ]
  },
  {
   "cell_type": "code",
   "execution_count": 10,
   "metadata": {},
   "outputs": [
    {
     "name": "stdout",
     "output_type": "stream",
     "text": [
      "[WinError 3] The system cannot find the path specified: 'Desktop/PythonProg/Git'\n",
      "C:\\\n"
     ]
    }
   ],
   "source": [
    "cd Desktop/PythonProg/Git"
   ]
  },
  {
   "cell_type": "code",
   "execution_count": 3,
   "metadata": {},
   "outputs": [
    {
     "name": "stdout",
     "output_type": "stream",
     "text": [
      " Volume in drive C has no label.\n",
      " Volume Serial Number is AE87-FC2E\n",
      "\n",
      " Directory of C:\\Users\n",
      "\n",
      "29/01/2018  03:53 PM    <DIR>          .\n",
      "29/01/2018  03:53 PM    <DIR>          ..\n",
      "11/07/2019  12:42 PM    <DIR>          Admin\n",
      "07/12/2018  04:29 PM    <DIR>          Guest\n",
      "22/08/2013  09:06 PM    <DIR>          Public\n",
      "               0 File(s)              0 bytes\n",
      "               5 Dir(s)  337,985,589,248 bytes free\n"
     ]
    }
   ],
   "source": [
    "ls"
   ]
  },
  {
   "cell_type": "code",
   "execution_count": 4,
   "metadata": {},
   "outputs": [
    {
     "name": "stdout",
     "output_type": "stream",
     "text": [
      "C:\\\n"
     ]
    }
   ],
   "source": [
    "cd .."
   ]
  },
  {
   "cell_type": "code",
   "execution_count": 5,
   "metadata": {},
   "outputs": [
    {
     "ename": "FileNotFoundError",
     "evalue": "[WinError 3] The system cannot find the path specified: 'Git/'",
     "output_type": "error",
     "traceback": [
      "\u001b[1;31m---------------------------------------------------------------------------\u001b[0m",
      "\u001b[1;31mFileNotFoundError\u001b[0m                         Traceback (most recent call last)",
      "\u001b[1;32m<ipython-input-5-99166f35672e>\u001b[0m in \u001b[0;36m<module>\u001b[1;34m\u001b[0m\n\u001b[0;32m      1\u001b[0m \u001b[1;32mimport\u001b[0m \u001b[0mos\u001b[0m\u001b[1;33m\u001b[0m\u001b[1;33m\u001b[0m\u001b[0m\n\u001b[1;32m----> 2\u001b[1;33m \u001b[0mos\u001b[0m\u001b[1;33m.\u001b[0m\u001b[0mlistdir\u001b[0m\u001b[1;33m(\u001b[0m\u001b[1;34m\"Git/\"\u001b[0m\u001b[1;33m)\u001b[0m\u001b[1;33m\u001b[0m\u001b[1;33m\u001b[0m\u001b[0m\n\u001b[0m",
      "\u001b[1;31mFileNotFoundError\u001b[0m: [WinError 3] The system cannot find the path specified: 'Git/'"
     ]
    }
   ],
   "source": [
    "import os\n",
    "os.listdir(\"Git/\")"
   ]
  },
  {
   "cell_type": "code",
   "execution_count": 6,
   "metadata": {},
   "outputs": [
    {
     "ename": "FileNotFoundError",
     "evalue": "[WinError 3] The system cannot find the path specified: 'Git/'",
     "output_type": "error",
     "traceback": [
      "\u001b[1;31m---------------------------------------------------------------------------\u001b[0m",
      "\u001b[1;31mFileNotFoundError\u001b[0m                         Traceback (most recent call last)",
      "\u001b[1;32m<ipython-input-6-4a79eb62bfc4>\u001b[0m in \u001b[0;36m<module>\u001b[1;34m\u001b[0m\n\u001b[1;32m----> 1\u001b[1;33m \u001b[0mli\u001b[0m\u001b[1;33m=\u001b[0m\u001b[0mos\u001b[0m\u001b[1;33m.\u001b[0m\u001b[0mlistdir\u001b[0m\u001b[1;33m(\u001b[0m\u001b[1;34m\"Git/\"\u001b[0m\u001b[1;33m)\u001b[0m\u001b[1;33m\u001b[0m\u001b[1;33m\u001b[0m\u001b[0m\n\u001b[0m\u001b[0;32m      2\u001b[0m \u001b[1;32mfor\u001b[0m \u001b[0mi\u001b[0m \u001b[1;32min\u001b[0m \u001b[0mli\u001b[0m\u001b[1;33m:\u001b[0m\u001b[1;33m\u001b[0m\u001b[1;33m\u001b[0m\u001b[0m\n\u001b[0;32m      3\u001b[0m     \u001b[0mprint\u001b[0m\u001b[1;33m(\u001b[0m\u001b[0mi\u001b[0m\u001b[1;33m)\u001b[0m\u001b[1;33m\u001b[0m\u001b[1;33m\u001b[0m\u001b[0m\n",
      "\u001b[1;31mFileNotFoundError\u001b[0m: [WinError 3] The system cannot find the path specified: 'Git/'"
     ]
    }
   ],
   "source": [
    "li=os.listdir(\"Git/\")\n",
    "for i in li:\n",
    "    print(i)"
   ]
  },
  {
   "cell_type": "markdown",
   "metadata": {},
   "source": [
    "- older version python --os.listdir()\n",
    "- new version python --os.scandir() and pathlib.path()"
   ]
  },
  {
   "cell_type": "code",
   "execution_count": 7,
   "metadata": {},
   "outputs": [
    {
     "ename": "FileNotFoundError",
     "evalue": "[WinError 3] The system cannot find the path specified: 'Git/'",
     "output_type": "error",
     "traceback": [
      "\u001b[1;31m---------------------------------------------------------------------------\u001b[0m",
      "\u001b[1;31mFileNotFoundError\u001b[0m                         Traceback (most recent call last)",
      "\u001b[1;32m<ipython-input-7-4bf47a60e13c>\u001b[0m in \u001b[0;36m<module>\u001b[1;34m\u001b[0m\n\u001b[1;32m----> 1\u001b[1;33m \u001b[0mli\u001b[0m\u001b[1;33m=\u001b[0m\u001b[0mos\u001b[0m\u001b[1;33m.\u001b[0m\u001b[0mscandir\u001b[0m\u001b[1;33m(\u001b[0m\u001b[1;34m\"Git/\"\u001b[0m\u001b[1;33m)\u001b[0m\u001b[1;33m\u001b[0m\u001b[1;33m\u001b[0m\u001b[0m\n\u001b[0m\u001b[0;32m      2\u001b[0m \u001b[1;32mfor\u001b[0m \u001b[0mi\u001b[0m \u001b[1;32min\u001b[0m \u001b[0mli\u001b[0m\u001b[1;33m:\u001b[0m\u001b[1;33m\u001b[0m\u001b[1;33m\u001b[0m\u001b[0m\n\u001b[0;32m      3\u001b[0m     \u001b[0mprint\u001b[0m\u001b[1;33m(\u001b[0m\u001b[0mi\u001b[0m\u001b[1;33m)\u001b[0m\u001b[1;33m\u001b[0m\u001b[1;33m\u001b[0m\u001b[0m\n",
      "\u001b[1;31mFileNotFoundError\u001b[0m: [WinError 3] The system cannot find the path specified: 'Git/'"
     ]
    }
   ],
   "source": [
    "li=os.scandir(\"Git/\")\n",
    "for i in li:\n",
    "    print(i)"
   ]
  },
  {
   "cell_type": "code",
   "execution_count": 8,
   "metadata": {},
   "outputs": [
    {
     "ename": "ImportError",
     "evalue": "cannot import name 'path' from 'pathlib' (D:\\Users\\Admin\\Anaconda3\\lib\\pathlib.py)",
     "output_type": "error",
     "traceback": [
      "\u001b[1;31m---------------------------------------------------------------------------\u001b[0m",
      "\u001b[1;31mImportError\u001b[0m                               Traceback (most recent call last)",
      "\u001b[1;32m<ipython-input-8-303d0fcdf269>\u001b[0m in \u001b[0;36m<module>\u001b[1;34m\u001b[0m\n\u001b[1;32m----> 1\u001b[1;33m \u001b[1;32mfrom\u001b[0m \u001b[0mpathlib\u001b[0m \u001b[1;32mimport\u001b[0m \u001b[0mpath\u001b[0m\u001b[1;33m\u001b[0m\u001b[1;33m\u001b[0m\u001b[0m\n\u001b[0m\u001b[0;32m      2\u001b[0m \u001b[0mli\u001b[0m\u001b[1;33m=\u001b[0m\u001b[0mpath\u001b[0m\u001b[1;33m(\u001b[0m\u001b[1;34m\"Git/\"\u001b[0m\u001b[1;33m)\u001b[0m\u001b[1;33m\u001b[0m\u001b[1;33m\u001b[0m\u001b[0m\n\u001b[0;32m      3\u001b[0m \u001b[1;32mfor\u001b[0m \u001b[0mi\u001b[0m \u001b[1;32min\u001b[0m \u001b[0mli\u001b[0m\u001b[1;33m.\u001b[0m\u001b[0miterdir\u001b[0m\u001b[1;33m(\u001b[0m\u001b[1;33m)\u001b[0m\u001b[1;33m:\u001b[0m\u001b[1;33m\u001b[0m\u001b[1;33m\u001b[0m\u001b[0m\n\u001b[0;32m      4\u001b[0m     \u001b[0mprint\u001b[0m\u001b[1;33m(\u001b[0m\u001b[0mi\u001b[0m\u001b[1;33m.\u001b[0m\u001b[0mname\u001b[0m\u001b[1;33m)\u001b[0m\u001b[1;33m\u001b[0m\u001b[1;33m\u001b[0m\u001b[0m\n",
      "\u001b[1;31mImportError\u001b[0m: cannot import name 'path' from 'pathlib' (D:\\Users\\Admin\\Anaconda3\\lib\\pathlib.py)"
     ]
    }
   ],
   "source": [
    "from pathlib import path\n",
    "li=path(\"Git/\")\n",
    "for i in li.iterdir():\n",
    "    print(i.name)"
   ]
  },
  {
   "cell_type": "code",
   "execution_count": null,
   "metadata": {},
   "outputs": [],
   "source": []
  }
 ],
 "metadata": {
  "kernelspec": {
   "display_name": "Python 3",
   "language": "python",
   "name": "python3"
  },
  "language_info": {
   "codemirror_mode": {
    "name": "ipython",
    "version": 3
   },
   "file_extension": ".py",
   "mimetype": "text/x-python",
   "name": "python",
   "nbconvert_exporter": "python",
   "pygments_lexer": "ipython3",
   "version": "3.7.3"
  }
 },
 "nbformat": 4,
 "nbformat_minor": 2
}
