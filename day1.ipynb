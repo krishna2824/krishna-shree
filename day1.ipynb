{
 "cells": [
  {
   "cell_type": "markdown",
   "metadata": {},
   "source": [
    "# Document Tittle\n",
    "\n",
    "### Date:10june2019\n",
    "\n",
    "\n",
    "### Session Objective\n",
    "\n",
    "* to introduce **Jupyter Notebooks**\n",
    "* to teach **markdown** syntax\n",
    "* to introduce **phthon** basics\n",
    "   * Basic Syntax(variables,assaignment,data types)\n",
    "   \n",
    "   *Control statements\n",
    "   \n",
    "     1.conditional\n",
    "     \n",
    "     2.repetative\n",
    "* [python logo]()\n",
    "* [link to website](https://sites.google.com/view/promizeit-python-krishna-shree/work-log/day-1-10062019)\n",
    "\n"
   ]
  },
  {
   "cell_type": "code",
   "execution_count": null,
   "metadata": {},
   "outputs": [],
   "source": []
  }
 ],
 "metadata": {
  "kernelspec": {
   "display_name": "Python 3",
   "language": "python",
   "name": "python3"
  },
  "language_info": {
   "codemirror_mode": {
    "name": "ipython",
    "version": 3
   },
   "file_extension": ".py",
   "mimetype": "text/x-python",
   "name": "python",
   "nbconvert_exporter": "python",
   "pygments_lexer": "ipython3",
   "version": "3.7.3"
  }
 },
 "nbformat": 4,
 "nbformat_minor": 2
}
